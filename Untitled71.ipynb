{
 "cells": [
  {
   "cell_type": "markdown",
   "id": "febc12d7-0af5-477b-bb6b-d8fc5d2470ba",
   "metadata": {},
   "source": [
    "# MBTI Personality Detection Project\n",
    "\n",
    "## Objective\n",
    "To predict personality types based on user-generated text using natural language processing (NLP) techniques.\n",
    "\n",
    "## Tools and Technologies\n",
    "- **Python**: Programming language used for implementation.\n",
    "- **Pandas**: For data manipulation and analysis.\n",
    "- **Matplotlib/Seaborn**: For data visualization.\n",
    "- **Scikit-learn**: Machine learning library for model building and evaluation.\n",
    "- **TF-IDF**: Technique for converting text into numerical features.\n",
    "- **Jupyter Notebook**: Interactive environment for writing and executing code."
   ]
  },
  {
   "cell_type": "markdown",
   "id": "b94643b1-4f7e-4cb5-8f2e-dbc34c26b75c",
   "metadata": {},
   "source": [
    "## Import Libraries"
   ]
  },
  {
   "cell_type": "code",
   "execution_count": 1,
   "id": "b7f744d1-d51d-4ba7-a0c3-08f46fdc0a1d",
   "metadata": {},
   "outputs": [],
   "source": [
    "import pandas as pd\n",
    "import matplotlib.pyplot as plt\n",
    "import seaborn as sns\n",
    "from sklearn.feature_extraction.text import TfidfVectorizer\n",
    "from sklearn.model_selection import train_test_split\n",
    "from sklearn.linear_model import LogisticRegression\n",
    "from sklearn.metrics import accuracy_score, classification_report"
   ]
  },
  {
   "cell_type": "markdown",
   "id": "f3cad0eb-6268-4bac-8dd0-923c51fcf38b",
   "metadata": {},
   "source": [
    "## Load and Preprocess Data"
   ]
  },
  {
   "cell_type": "code",
   "execution_count": 2,
   "id": "cdad191d-7440-4081-88ec-9e866208e51c",
   "metadata": {},
   "outputs": [
    {
     "data": {
      "text/html": [
       "<div>\n",
       "<style scoped>\n",
       "    .dataframe tbody tr th:only-of-type {\n",
       "        vertical-align: middle;\n",
       "    }\n",
       "\n",
       "    .dataframe tbody tr th {\n",
       "        vertical-align: top;\n",
       "    }\n",
       "\n",
       "    .dataframe thead th {\n",
       "        text-align: right;\n",
       "    }\n",
       "</style>\n",
       "<table border=\"1\" class=\"dataframe\">\n",
       "  <thead>\n",
       "    <tr style=\"text-align: right;\">\n",
       "      <th></th>\n",
       "      <th>type</th>\n",
       "      <th>posts</th>\n",
       "    </tr>\n",
       "  </thead>\n",
       "  <tbody>\n",
       "    <tr>\n",
       "      <th>0</th>\n",
       "      <td>INFJ</td>\n",
       "      <td>httpwwwyoutubecomwatchvqsxhcwekrwhttpmediatumb...</td>\n",
       "    </tr>\n",
       "    <tr>\n",
       "      <th>1</th>\n",
       "      <td>ENTP</td>\n",
       "      <td>im finding the lack of me in these posts very ...</td>\n",
       "    </tr>\n",
       "    <tr>\n",
       "      <th>2</th>\n",
       "      <td>INTP</td>\n",
       "      <td>good one     httpswwwyoutubecomwatchvfhigbolff...</td>\n",
       "    </tr>\n",
       "    <tr>\n",
       "      <th>3</th>\n",
       "      <td>INTJ</td>\n",
       "      <td>dear intp   i enjoyed our conversation the oth...</td>\n",
       "    </tr>\n",
       "    <tr>\n",
       "      <th>4</th>\n",
       "      <td>ENTJ</td>\n",
       "      <td>youre firedthats another silly misconception t...</td>\n",
       "    </tr>\n",
       "  </tbody>\n",
       "</table>\n",
       "</div>"
      ],
      "text/plain": [
       "   type                                              posts\n",
       "0  INFJ  httpwwwyoutubecomwatchvqsxhcwekrwhttpmediatumb...\n",
       "1  ENTP  im finding the lack of me in these posts very ...\n",
       "2  INTP  good one     httpswwwyoutubecomwatchvfhigbolff...\n",
       "3  INTJ  dear intp   i enjoyed our conversation the oth...\n",
       "4  ENTJ  youre firedthats another silly misconception t..."
      ]
     },
     "execution_count": 2,
     "metadata": {},
     "output_type": "execute_result"
    }
   ],
   "source": [
    "def load_and_preprocess_data(file_path):\n",
    "    data = pd.read_csv(file_path)\n",
    "    data['posts'] = data['posts'].str.lower().str.replace('[^a-z ]', '', regex=True)\n",
    "    return data\n",
    "\n",
    "# Load data\n",
    "data = load_and_preprocess_data('mbti_1.csv')\n",
    "data.head() "
   ]
  },
  {
   "cell_type": "markdown",
   "id": "294f64fc-37ed-4095-a0af-8a28f95fe70e",
   "metadata": {},
   "source": [
    "## Exploratory Data Analysis (EDA)"
   ]
  },
  {
   "cell_type": "code",
   "execution_count": 4,
   "id": "c0a5d89a-aa1f-449e-8e69-ff323ff633e2",
   "metadata": {},
   "outputs": [
    {
     "data": {
      "text/plain": [
       "(8675, 2)"
      ]
     },
     "execution_count": 4,
     "metadata": {},
     "output_type": "execute_result"
    }
   ],
   "source": [
    "data.shape"
   ]
  },
  {
   "cell_type": "code",
   "execution_count": 3,
   "id": "613f912a-331e-4230-a096-a6f3600ccc7f",
   "metadata": {},
   "outputs": [
    {
     "name": "stdout",
     "output_type": "stream",
     "text": [
      "<class 'pandas.core.frame.DataFrame'>\n",
      "RangeIndex: 8675 entries, 0 to 8674\n",
      "Data columns (total 2 columns):\n",
      " #   Column  Non-Null Count  Dtype \n",
      "---  ------  --------------  ----- \n",
      " 0   type    8675 non-null   object\n",
      " 1   posts   8675 non-null   object\n",
      "dtypes: object(2)\n",
      "memory usage: 135.7+ KB\n"
     ]
    }
   ],
   "source": [
    "# Step 1: Basic Info\n",
    "data.info()"
   ]
  },
  {
   "cell_type": "code",
   "execution_count": 5,
   "id": "09fab167-6c36-4143-88a5-fdd7b9868321",
   "metadata": {},
   "outputs": [
    {
     "data": {
      "text/plain": [
       "<bound method NDFrame.describe of       type                                              posts\n",
       "0     INFJ  httpwwwyoutubecomwatchvqsxhcwekrwhttpmediatumb...\n",
       "1     ENTP  im finding the lack of me in these posts very ...\n",
       "2     INTP  good one     httpswwwyoutubecomwatchvfhigbolff...\n",
       "3     INTJ  dear intp   i enjoyed our conversation the oth...\n",
       "4     ENTJ  youre firedthats another silly misconception t...\n",
       "...    ...                                                ...\n",
       "8670  ISFP  httpswwwyoutubecomwatchvtedhbhixfp just becaus...\n",
       "8671  ENFP  soif this thread already exists someplace else...\n",
       "8672  INTP  so many questions when i do these things  i wo...\n",
       "8673  INFP  i am very conflicted right now when it comes t...\n",
       "8674  INFP  it has been too long since i have been on pers...\n",
       "\n",
       "[8675 rows x 2 columns]>"
      ]
     },
     "execution_count": 5,
     "metadata": {},
     "output_type": "execute_result"
    }
   ],
   "source": [
    "data.describe"
   ]
  },
  {
   "cell_type": "code",
   "execution_count": 6,
   "id": "893b1adb-cfa5-4eff-bad6-9548885ba9b9",
   "metadata": {},
   "outputs": [
    {
     "data": {
      "text/plain": [
       "type     0\n",
       "posts    0\n",
       "dtype: int64"
      ]
     },
     "execution_count": 6,
     "metadata": {},
     "output_type": "execute_result"
    }
   ],
   "source": [
    "data.isnull().sum()"
   ]
  },
  {
   "cell_type": "code",
   "execution_count": 7,
   "id": "7438d823-23bb-48a8-9bed-8694195069bd",
   "metadata": {},
   "outputs": [
    {
     "data": {
      "image/png": "[encoded data removed]",
      "text/plain": [
       "<Figure size 1200x600 with 1 Axes>"
      ]
     },
     "metadata": {},
     "output_type": "display_data"
    }
   ],
   "source": [
    "# Step 3: Distribution of Personality Types\n",
    "plt.figure(figsize=(12, 6))\n",
    "sns.countplot(y='type', data=data, order=data['type'].value_counts().index)\n",
    "plt.title('Distribution of Personality Types')\n",
    "plt.xlabel('Count')\n",
    "plt.ylabel('Personality Type')\n",
    "plt.show()"
   ]
  },
  {
   "cell_type": "code",
   "execution_count": 8,
   "id": "aa1b00d9-aef3-42a1-aa1c-abee46759ae3",
   "metadata": {},
   "outputs": [
    {
     "data": {
      "image/png": "[encoded data removed]",
      "text/plain": [
       "<Figure size 1200x600 with 1 Axes>"
      ]
     },
     "metadata": {},
     "output_type": "display_data"
    }
   ],
   "source": [
    "# Step 4: Average Length of Posts by Personality Type\n",
    "data['post_length'] = data['posts'].apply(len)\n",
    "plt.figure(figsize=(12, 6))\n",
    "sns.boxplot(x='type', y='post_length', data=data)\n",
    "plt.title('Post Length Distribution by Personality Type')\n",
    "plt.xlabel('Personality Type')\n",
    "plt.ylabel('Post Length')\n",
    "plt.xticks(rotation=45)\n",
    "plt.show()"
   ]
  },
  {
   "cell_type": "markdown",
   "id": "a49e618a-c7d2-4aac-9fe1-7fd86fe07422",
   "metadata": {},
   "source": [
    "## Extract Features and Labels"
   ]
  },
  {
   "cell_type": "code",
   "execution_count": 9,
   "id": "3a350d72-5549-46b8-82bc-af3593fe1ea1",
   "metadata": {},
   "outputs": [],
   "source": [
    "# Extract Features and Labels\n",
    "def extract_features(data):\n",
    "    tfidf = TfidfVectorizer(max_features=5000)\n",
    "    X = tfidf.fit_transform(data['posts'])\n",
    "    y = data['type']\n",
    "    return X, y, tfidf\n",
    "\n",
    "X, y, tfidf = extract_features(data)"
   ]
  },
  {
   "cell_type": "markdown",
   "id": "7b695491-50b5-40d0-9d88-55f4e564bf26",
   "metadata": {},
   "source": [
    "## Split the Data"
   ]
  },
  {
   "cell_type": "code",
   "execution_count": 10,
   "id": "a2a22ed3-7eed-4394-a209-cf52fa54155f",
   "metadata": {},
   "outputs": [],
   "source": [
    "# Split the dataset into training and testing sets\n",
    "X_train, X_test, y_train, y_test = train_test_split(X, y, test_size=0.2, random_state=42)"
   ]
  },
  {
   "cell_type": "markdown",
   "id": "35019628-998e-46f6-81e7-c03c335def31",
   "metadata": {},
   "source": [
    "## Train the Model"
   ]
  },
  {
   "cell_type": "code",
   "execution_count": 11,
   "id": "f52875ca-e5e4-4552-9642-7ee71984c44f",
   "metadata": {},
   "outputs": [],
   "source": [
    "def train_model(X_train, y_train):\n",
    "    model = LogisticRegression(max_iter=1000)\n",
    "    model.fit(X_train, y_train)\n",
    "    return model\n",
    "\n",
    "model = train_model(X_train, y_train)"
   ]
  },
  {
   "cell_type": "markdown",
   "id": "5e5925c0-6025-4a50-ae9f-c229c6d79539",
   "metadata": {},
   "source": [
    "## Evaluate the Model"
   ]
  },
  {
   "cell_type": "code",
   "execution_count": 12,
   "id": "710b7565-dc15-4e79-a553-f3e03b87ed39",
   "metadata": {},
   "outputs": [
    {
     "name": "stdout",
     "output_type": "stream",
     "text": [
      "Accuracy: 0.5982708933717579\n",
      "              precision    recall  f1-score   support\n",
      "\n",
      "        ENFJ       0.50      0.07      0.13        41\n",
      "        ENFP       0.70      0.50      0.59       125\n",
      "        ENTJ       0.70      0.16      0.26        44\n",
      "        ENTP       0.69      0.47      0.56       135\n",
      "        ESFJ       0.00      0.00      0.00         7\n",
      "        ESFP       0.00      0.00      0.00         8\n",
      "        ESTJ       0.00      0.00      0.00         7\n",
      "        ESTP       0.00      0.00      0.00        15\n",
      "        INFJ       0.61      0.66      0.63       288\n",
      "        INFP       0.54      0.87      0.66       370\n",
      "        INTJ       0.58      0.67      0.62       193\n",
      "        INTP       0.63      0.77      0.69       293\n",
      "        ISFJ       1.00      0.09      0.16        45\n",
      "        ISFP       0.56      0.09      0.16        53\n",
      "        ISTJ       0.75      0.07      0.12        44\n",
      "        ISTP       0.85      0.33      0.47        67\n",
      "\n",
      "    accuracy                           0.60      1735\n",
      "   macro avg       0.51      0.30      0.32      1735\n",
      "weighted avg       0.61      0.60      0.56      1735\n",
      "\n"
     ]
    },
    {
     "name": "stderr",
     "output_type": "stream",
     "text": [
      "C:\\Users\\PMLS\\anaconda3\\Lib\\site-packages\\sklearn\\metrics\\_classification.py:1344: UndefinedMetricWarning: Precision and F-score are ill-defined and being set to 0.0 in labels with no predicted samples. Use `zero_division` parameter to control this behavior.\n",
      "  _warn_prf(average, modifier, msg_start, len(result))\n",
      "C:\\Users\\PMLS\\anaconda3\\Lib\\site-packages\\sklearn\\metrics\\_classification.py:1344: UndefinedMetricWarning: Precision and F-score are ill-defined and being set to 0.0 in labels with no predicted samples. Use `zero_division` parameter to control this behavior.\n",
      "  _warn_prf(average, modifier, msg_start, len(result))\n",
      "C:\\Users\\PMLS\\anaconda3\\Lib\\site-packages\\sklearn\\metrics\\_classification.py:1344: UndefinedMetricWarning: Precision and F-score are ill-defined and being set to 0.0 in labels with no predicted samples. Use `zero_division` parameter to control this behavior.\n",
      "  _warn_prf(average, modifier, msg_start, len(result))\n"
     ]
    }
   ],
   "source": [
    "def evaluate_model(model, X_test, y_test):\n",
    "    y_pred = model.predict(X_test)\n",
    "    print(\"Accuracy:\", accuracy_score(y_test, y_pred))\n",
    "    print(classification_report(y_test, y_pred))\n",
    "\n",
    "evaluate_model(model, X_test, y_test)"
   ]
  },
  {
   "cell_type": "markdown",
   "id": "3874d320-e4cf-400c-b108-ba355a403f5b",
   "metadata": {},
   "source": [
    "## Make Predictions"
   ]
  },
  {
   "cell_type": "code",
   "execution_count": 14,
   "id": "6ae5a98d-b144-4f5e-88b4-90955318cce6",
   "metadata": {},
   "outputs": [
    {
     "name": "stdout",
     "output_type": "stream",
     "text": [
      "Predicted Personality: INTP\n"
     ]
    }
   ],
   "source": [
    "def predict_personality(model, tfidf, text):\n",
    "    text = tfidf.transform([text.lower().replace('[^a-z ]', '')])\n",
    "    return model.predict(text)\n",
    "\n",
    "# Example Prediction\n",
    "example_text = \"I enjoy meeting new people and exploring new places!\"\n",
    "prediction = predict_personality(model, tfidf, example_text)\n",
    "print(\"Predicted Personality:\", prediction[0])"
   ]
  },
  {
   "cell_type": "markdown",
   "id": "d496bcd6-9d3b-4de1-bec9-28a0a90b2667",
   "metadata": {},
   "source": [
    "## Summary\n",
    "In this project, we conducted exploratory data analysis to understand the dataset better. We examined the distribution of personality types and analyzed the average post lengths associated with each personality type. This analysis provided insights that could inform feature engineering and model selection."
   ]
  },
  {
   "cell_type": "markdown",
   "id": "5a8eac66-baba-40a4-bcfb-22f3e79d75f8",
   "metadata": {},
   "source": [
    "## Conclusion\n",
    "The model demonstrated its capability to classify text based on personality types effectively. The exploratory data analysis highlighted important characteristics of the dataset, suggesting areas for further enhancement. Future work can include experimenting with more advanced models, enhancing data quality, and developing a user interface for real-time predictions."
   ]
  },
  {
   "cell_type": "code",
   "execution_count": null,
   "id": "bbda5054-c104-42c9-9984-040bac138982",
   "metadata": {},
   "outputs": [],
   "source": []
  }
 ],
 "metadata": {
  "kernelspec": {
   "display_name": "Python 3 (ipykernel)",
   "language": "python",
   "name": "python3"
  },
  "language_info": {
   "codemirror_mode": {
    "name": "ipython",
    "version": 3
   },
   "file_extension": ".py",
   "mimetype": "text/x-python",
   "name": "python",
   "nbconvert_exporter": "python",
   "pygments_lexer": "ipython3",
   "version": "3.11.7"
  }
 },
 "nbformat": 4,
 "nbformat_minor": 5
}
